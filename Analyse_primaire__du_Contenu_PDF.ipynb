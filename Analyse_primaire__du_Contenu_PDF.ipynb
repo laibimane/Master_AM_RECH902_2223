{
  "nbformat": 4,
  "nbformat_minor": 0,
  "metadata": {
    "colab": {
      "provenance": [],
      "authorship_tag": "ABX9TyP2Xcj8fhH/kN2rfDF7zp51",
      "include_colab_link": true
    },
    "kernelspec": {
      "name": "python3",
      "display_name": "Python 3"
    },
    "language_info": {
      "name": "python"
    }
  },
  "cells": [
    {
      "cell_type": "markdown",
      "metadata": {
        "id": "view-in-github",
        "colab_type": "text"
      },
      "source": [
        "<a href=\"https://colab.research.google.com/github/laibimane/Master_AM_RECH902_2223/blob/main/Analyse_primaire__du_Contenu_PDF.ipynb\" target=\"_parent\"><img src=\"https://colab.research.google.com/assets/colab-badge.svg\" alt=\"Open In Colab\"/></a>"
      ]
    },
    {
      "cell_type": "code",
      "source": [
        "pip install PyMuPDF"
      ],
      "metadata": {
        "colab": {
          "base_uri": "https://localhost:8080/"
        },
        "id": "LWTnHIXmdMsZ",
        "outputId": "27df7426-f4d2-4b1c-baa3-3ef206edfacb"
      },
      "execution_count": 1,
      "outputs": [
        {
          "output_type": "stream",
          "name": "stdout",
          "text": [
            "Collecting PyMuPDF\n",
            "  Downloading PyMuPDF-1.23.20-cp310-none-manylinux2014_x86_64.whl (4.4 MB)\n",
            "\u001b[2K     \u001b[90m━━━━━━━━━━━━━━━━━━━━━━━━━━━━━━━━━━━━━━━━\u001b[0m \u001b[32m4.4/4.4 MB\u001b[0m \u001b[31m45.1 MB/s\u001b[0m eta \u001b[36m0:00:00\u001b[0m\n",
            "\u001b[?25hCollecting PyMuPDFb==1.23.9 (from PyMuPDF)\n",
            "  Downloading PyMuPDFb-1.23.9-py3-none-manylinux2014_x86_64.manylinux_2_17_x86_64.whl (30.6 MB)\n",
            "\u001b[2K     \u001b[90m━━━━━━━━━━━━━━━━━━━━━━━━━━━━━━━━━━━━━━━━\u001b[0m \u001b[32m30.6/30.6 MB\u001b[0m \u001b[31m46.9 MB/s\u001b[0m eta \u001b[36m0:00:00\u001b[0m\n",
            "\u001b[?25hInstalling collected packages: PyMuPDFb, PyMuPDF\n",
            "Successfully installed PyMuPDF-1.23.20 PyMuPDFb-1.23.9\n"
          ]
        }
      ]
    },
    {
      "cell_type": "code",
      "execution_count": null,
      "metadata": {
        "id": "HGGbDBEzUweM"
      },
      "outputs": [],
      "source": [
        "import fitz  # PyMuPDF\n",
        "import pandas as pd\n",
        "\n",
        "def analyze_pdf(file_path):\n",
        "    try:\n",
        "        doc = fitz.open(file_path)\n",
        "        total_text_length = 0\n",
        "        total_image_area = 0\n",
        "\n",
        "        for page in doc:\n",
        "            # Extract text\n",
        "            text = page.get_text()\n",
        "            total_text_length += len(text)\n",
        "\n",
        "            # Extract images and calculate total image area\n",
        "            for img in page.get_images(full=True):\n",
        "                total_image_area += img[0]\n",
        "\n",
        "        total_content = total_text_length + total_image_area\n",
        "\n",
        "        # Calculate percentages\n",
        "        text_percentage = 0\n",
        "        image_percentage = 0\n",
        "        if total_content > 0:\n",
        "            text_percentage = (total_text_length / total_content) * 100\n",
        "            image_percentage = (total_image_area / total_content) * 100\n",
        "\n",
        "        df = pd.DataFrame(columns=['path', 'nombre_de_pages', 'pourcentage_de_texte', 'pourcentage_d_images', 'image_list'])\n",
        "\n",
        "        # Store results in DataFrame\n",
        "        df.loc[0] = [file_path, len(doc), text_percentage, image_percentage, page.get_images(full=True)]\n",
        "\n",
        "        doc.close()\n",
        "        return df\n",
        "    except fitz.fitz.FileDataError as e:\n",
        "        print(f\"Error processing {file_path}: {e}\")\n",
        "        return None  # Return None to indicate an error occurred\n",
        "    except fitz.fitz.FileNotFoundError as e:\n",
        "        print(f\"File not found: {file_path}\")\n",
        "        return None  # Return None to indicate the file is missing\n",
        "\n",
        "def process_pdf_files(pdf_file_paths):\n",
        "    result_df = pd.DataFrame(columns=['path', 'nombre_de_pages', 'pourcentage_de_texte', 'pourcentage_d_images', 'image_list'])\n",
        "\n",
        "    # Analyze each PDF file and accumulate the results in the result_df\n",
        "    for path in pdf_file_paths:\n",
        "        df = analyze_pdf(path)\n",
        "        if df is not None:\n",
        "            result_df = pd.concat([result_df, df], ignore_index=True)\n",
        "\n",
        "    return result_df\n",
        "\n",
        "def main():\n",
        "    excel_file_path = \"C:\\\\Users\\\\Imane LAIB\\\\Documents\\\\SIAAP\\\\Liste_pdf.xlsx\"  # Replace with the actual path\n",
        "    df_paths = pd.read_excel(excel_file_path, usecols=['Chemin_final'])\n",
        "    pdf_file_paths = df_paths['Chemin_final'].tolist()[:500]  # Process only the first 500 values from the list\n",
        "\n",
        "    result_df = process_pdf_files(pdf_file_paths)\n",
        "\n",
        "    excel_output_path = 'output_info_new.xlsx'\n",
        "    result_df.to_excel(excel_output_path, index=False)\n",
        "    print(f\"Combined DataFrame info exported to {excel_output_path}\")\n",
        "\n",
        "if __name__ == \"__main__\":\n",
        "    main()\n"
      ]
    },
    {
      "cell_type": "code",
      "source": [],
      "metadata": {
        "id": "MJcTQxhadE3B"
      },
      "execution_count": null,
      "outputs": []
    }
  ]
}